{
 "cells": [
  {
   "cell_type": "code",
   "execution_count": 1,
   "id": "4df44c24",
   "metadata": {},
   "outputs": [],
   "source": [
    "import pandas as pd\n",
    "import numpy as np\n",
    "from sklearn.feature_extraction.text import TfidfVectorizer"
   ]
  },
  {
   "cell_type": "code",
   "execution_count": 2,
   "id": "ae11457e",
   "metadata": {},
   "outputs": [],
   "source": [
    "df = pd.read_csv(\"../data/SQuAD-PL/train.csv\")"
   ]
  },
  {
   "cell_type": "code",
   "execution_count": 3,
   "id": "b127bd60",
   "metadata": {},
   "outputs": [
    {
     "data": {
      "text/html": [
       "<div>\n",
       "<style scoped>\n",
       "    .dataframe tbody tr th:only-of-type {\n",
       "        vertical-align: middle;\n",
       "    }\n",
       "\n",
       "    .dataframe tbody tr th {\n",
       "        vertical-align: top;\n",
       "    }\n",
       "\n",
       "    .dataframe thead th {\n",
       "        text-align: right;\n",
       "    }\n",
       "</style>\n",
       "<table border=\"1\" class=\"dataframe\">\n",
       "  <thead>\n",
       "    <tr style=\"text-align: right;\">\n",
       "      <th></th>\n",
       "      <th>qa_id</th>\n",
       "      <th>group_id</th>\n",
       "      <th>passage_id</th>\n",
       "      <th>context</th>\n",
       "      <th>question</th>\n",
       "      <th>answer_text</th>\n",
       "      <th>answer_start</th>\n",
       "    </tr>\n",
       "  </thead>\n",
       "  <tbody>\n",
       "    <tr>\n",
       "      <th>0</th>\n",
       "      <td>0</td>\n",
       "      <td>0</td>\n",
       "      <td>0</td>\n",
       "      <td>Beyoncé Giselle Knowles-Carter (/biːˈjɒnseɪ/ b...</td>\n",
       "      <td>Kiedy Beyonce zaczęła być popularna?</td>\n",
       "      <td>pod koniec lat 90.</td>\n",
       "      <td>264</td>\n",
       "    </tr>\n",
       "    <tr>\n",
       "      <th>1</th>\n",
       "      <td>2</td>\n",
       "      <td>0</td>\n",
       "      <td>0</td>\n",
       "      <td>Beyoncé Giselle Knowles-Carter (/biːˈjɒnseɪ/ b...</td>\n",
       "      <td>Kiedy Beyonce opuściła Destiny's Child i zosta...</td>\n",
       "      <td>2003</td>\n",
       "      <td>550</td>\n",
       "    </tr>\n",
       "    <tr>\n",
       "      <th>2</th>\n",
       "      <td>4</td>\n",
       "      <td>0</td>\n",
       "      <td>0</td>\n",
       "      <td>Beyoncé Giselle Knowles-Carter (/biːˈjɒnseɪ/ b...</td>\n",
       "      <td>W której dekadzie Beyonce stała się sławna?</td>\n",
       "      <td>koniec lat 90.</td>\n",
       "      <td>268</td>\n",
       "    </tr>\n",
       "    <tr>\n",
       "      <th>3</th>\n",
       "      <td>8</td>\n",
       "      <td>0</td>\n",
       "      <td>0</td>\n",
       "      <td>Beyoncé Giselle Knowles-Carter (/biːˈjɒnseɪ/ b...</td>\n",
       "      <td>Kiedy Beyoncé zyskała sławę?</td>\n",
       "      <td>koniec lat 90.</td>\n",
       "      <td>268</td>\n",
       "    </tr>\n",
       "    <tr>\n",
       "      <th>4</th>\n",
       "      <td>11</td>\n",
       "      <td>0</td>\n",
       "      <td>0</td>\n",
       "      <td>Beyoncé Giselle Knowles-Carter (/biːˈjɒnseɪ/ b...</td>\n",
       "      <td>Kiedy Beyoncé wydała Dangerously In Love?</td>\n",
       "      <td>2003</td>\n",
       "      <td>550</td>\n",
       "    </tr>\n",
       "    <tr>\n",
       "      <th>...</th>\n",
       "      <td>...</td>\n",
       "      <td>...</td>\n",
       "      <td>...</td>\n",
       "      <td>...</td>\n",
       "      <td>...</td>\n",
       "      <td>...</td>\n",
       "      <td>...</td>\n",
       "    </tr>\n",
       "    <tr>\n",
       "      <th>78260</th>\n",
       "      <td>130314</td>\n",
       "      <td>441</td>\n",
       "      <td>28</td>\n",
       "      <td>Termin „materia” jest używany w fizyce w oszał...</td>\n",
       "      <td>Fizyka szeroko zgodziła się na definicję czego?</td>\n",
       "      <td>NaN</td>\n",
       "      <td>0</td>\n",
       "    </tr>\n",
       "    <tr>\n",
       "      <th>78261</th>\n",
       "      <td>130315</td>\n",
       "      <td>441</td>\n",
       "      <td>28</td>\n",
       "      <td>Termin „materia” jest używany w fizyce w oszał...</td>\n",
       "      <td>Kto ukuł termin materia partonic?</td>\n",
       "      <td>NaN</td>\n",
       "      <td>0</td>\n",
       "    </tr>\n",
       "    <tr>\n",
       "      <th>78262</th>\n",
       "      <td>130316</td>\n",
       "      <td>441</td>\n",
       "      <td>28</td>\n",
       "      <td>Termin „materia” jest używany w fizyce w oszał...</td>\n",
       "      <td>Jaka jest inna nazwa antymaterii?</td>\n",
       "      <td>NaN</td>\n",
       "      <td>0</td>\n",
       "    </tr>\n",
       "    <tr>\n",
       "      <th>78263</th>\n",
       "      <td>130317</td>\n",
       "      <td>441</td>\n",
       "      <td>28</td>\n",
       "      <td>Termin „materia” jest używany w fizyce w oszał...</td>\n",
       "      <td>Materii zwykle nie trzeba używać w połączeniu ...</td>\n",
       "      <td>NaN</td>\n",
       "      <td>0</td>\n",
       "    </tr>\n",
       "    <tr>\n",
       "      <th>78264</th>\n",
       "      <td>130318</td>\n",
       "      <td>441</td>\n",
       "      <td>28</td>\n",
       "      <td>Termin „materia” jest używany w fizyce w oszał...</td>\n",
       "      <td>Jaki kierunek studiów ma różne nietypowe konte...</td>\n",
       "      <td>NaN</td>\n",
       "      <td>0</td>\n",
       "    </tr>\n",
       "  </tbody>\n",
       "</table>\n",
       "<p>78265 rows × 7 columns</p>\n",
       "</div>"
      ],
      "text/plain": [
       "        qa_id  group_id  passage_id  \\\n",
       "0           0         0           0   \n",
       "1           2         0           0   \n",
       "2           4         0           0   \n",
       "3           8         0           0   \n",
       "4          11         0           0   \n",
       "...       ...       ...         ...   \n",
       "78260  130314       441          28   \n",
       "78261  130315       441          28   \n",
       "78262  130316       441          28   \n",
       "78263  130317       441          28   \n",
       "78264  130318       441          28   \n",
       "\n",
       "                                                 context  \\\n",
       "0      Beyoncé Giselle Knowles-Carter (/biːˈjɒnseɪ/ b...   \n",
       "1      Beyoncé Giselle Knowles-Carter (/biːˈjɒnseɪ/ b...   \n",
       "2      Beyoncé Giselle Knowles-Carter (/biːˈjɒnseɪ/ b...   \n",
       "3      Beyoncé Giselle Knowles-Carter (/biːˈjɒnseɪ/ b...   \n",
       "4      Beyoncé Giselle Knowles-Carter (/biːˈjɒnseɪ/ b...   \n",
       "...                                                  ...   \n",
       "78260  Termin „materia” jest używany w fizyce w oszał...   \n",
       "78261  Termin „materia” jest używany w fizyce w oszał...   \n",
       "78262  Termin „materia” jest używany w fizyce w oszał...   \n",
       "78263  Termin „materia” jest używany w fizyce w oszał...   \n",
       "78264  Termin „materia” jest używany w fizyce w oszał...   \n",
       "\n",
       "                                                question         answer_text  \\\n",
       "0                   Kiedy Beyonce zaczęła być popularna?  pod koniec lat 90.   \n",
       "1      Kiedy Beyonce opuściła Destiny's Child i zosta...                2003   \n",
       "2            W której dekadzie Beyonce stała się sławna?      koniec lat 90.   \n",
       "3                           Kiedy Beyoncé zyskała sławę?      koniec lat 90.   \n",
       "4              Kiedy Beyoncé wydała Dangerously In Love?                2003   \n",
       "...                                                  ...                 ...   \n",
       "78260    Fizyka szeroko zgodziła się na definicję czego?                 NaN   \n",
       "78261                  Kto ukuł termin materia partonic?                 NaN   \n",
       "78262                  Jaka jest inna nazwa antymaterii?                 NaN   \n",
       "78263  Materii zwykle nie trzeba używać w połączeniu ...                 NaN   \n",
       "78264  Jaki kierunek studiów ma różne nietypowe konte...                 NaN   \n",
       "\n",
       "       answer_start  \n",
       "0               264  \n",
       "1               550  \n",
       "2               268  \n",
       "3               268  \n",
       "4               550  \n",
       "...             ...  \n",
       "78260             0  \n",
       "78261             0  \n",
       "78262             0  \n",
       "78263             0  \n",
       "78264             0  \n",
       "\n",
       "[78265 rows x 7 columns]"
      ]
     },
     "execution_count": 3,
     "metadata": {},
     "output_type": "execute_result"
    }
   ],
   "source": [
    "df"
   ]
  },
  {
   "cell_type": "code",
   "execution_count": 4,
   "id": "77653383",
   "metadata": {},
   "outputs": [],
   "source": [
    "group_id = 0\n",
    "\n",
    "df = df.drop_duplicates(\"group_id\")\n",
    "\n",
    "target = df[df[\"group_id\"] == group_id]\n",
    "other = df[df[\"group_id\"] != group_id]"
   ]
  },
  {
   "cell_type": "code",
   "execution_count": 5,
   "id": "8115063d",
   "metadata": {},
   "outputs": [],
   "source": [
    "vectorizer = TfidfVectorizer()\n",
    "swap = \"context\"\n",
    "#swap = \"question\"\n",
    "x_other = vectorizer.fit_transform(other[swap])\n",
    "x_target = vectorizer.transform(target[swap])"
   ]
  },
  {
   "cell_type": "code",
   "execution_count": 6,
   "id": "cc17430d",
   "metadata": {},
   "outputs": [],
   "source": [
    "y = x_other * x_target.T"
   ]
  },
  {
   "cell_type": "code",
   "execution_count": 7,
   "id": "580f604b",
   "metadata": {},
   "outputs": [
    {
     "data": {
      "text/plain": [
       "(441, 1)"
      ]
     },
     "execution_count": 7,
     "metadata": {},
     "output_type": "execute_result"
    }
   ],
   "source": [
    "y.shape"
   ]
  },
  {
   "cell_type": "code",
   "execution_count": 8,
   "id": "ea2a6747",
   "metadata": {},
   "outputs": [],
   "source": [
    "top_similar = sorted([(i, np.sum(x.data)) for i, x in enumerate(y[:, 0])], key=lambda x: x[1], reverse=True)"
   ]
  },
  {
   "cell_type": "code",
   "execution_count": 9,
   "id": "8a736161",
   "metadata": {},
   "outputs": [
    {
     "data": {
      "text/plain": [
       "[(207, 0.14704907266221748),\n",
       " (200, 0.11897357089950748),\n",
       " (37, 0.10533504213353242),\n",
       " (158, 0.08804643585611877),\n",
       " (336, 0.08246115920694672)]"
      ]
     },
     "execution_count": 9,
     "metadata": {},
     "output_type": "execute_result"
    }
   ],
   "source": [
    "top_similar[:5]"
   ]
  },
  {
   "cell_type": "code",
   "execution_count": 10,
   "id": "34e70d83",
   "metadata": {},
   "outputs": [
    {
     "data": {
      "text/plain": [
       "\"Beyoncé Giselle Knowles-Carter (/biːˈjɒnseɪ/ bee-YON-say) (ur. 4 września 1981) to amerykańska piosenkarka, autorka tekstów, producentka muzyczna i aktorka. Urodzona i wychowana w Houston w Teksasie, jako dziecko występowała w różnych konkursach śpiewu i tańca, a pod koniec lat 90. zyskała sławę jako wokalistka dziewczęcej grupy R&B Destiny's Child. Zarządzana przez jej ojca, Mathew Knowlesa, grupa stała się jedną z najlepiej sprzedających się żeńskich grup wszech czasów. W ich przerwie ukazał się debiutancki album Beyoncé Dangerously in Love (2003), który ugruntował ją jako artystkę solową na całym świecie, zdobyła pięć nagród Grammy i zawierała single „Crazy in Love” i „Baby Boy” na pierwszym miejscu listy Billboard Hot 100. .\""
      ]
     },
     "execution_count": 10,
     "metadata": {},
     "output_type": "execute_result"
    }
   ],
   "source": [
    "target.iloc[0][swap]"
   ]
  },
  {
   "cell_type": "code",
   "execution_count": 11,
   "id": "acdeacb5",
   "metadata": {},
   "outputs": [
    {
     "data": {
      "text/plain": [
       "'Madonna Louise Ciccone (/ tʃɪˈkoʊni/; włoski: [tʃikˈkoːne]; ur. 16 sierpnia 1958) to amerykańska piosenkarka, autorka tekstów, aktorka i bizneswoman. Osiągnęła popularność, przesuwając granice treści lirycznych w głównym nurcie muzyki popularnej i obrazów w swoich teledyskach, które stały się stałym elementem MTV. Madonna znana jest z odkrywania na nowo zarówno swojej muzyki, jak i wizerunku oraz zachowania autonomii w przemyśle nagraniowym. Krytycy muzyczni docenili jej produkcje muzyczne, które wzbudziły pewne kontrowersje. Często określana jako „Królowa Popu”, jest często cytowana jako wpływ na innych artystów.'"
      ]
     },
     "execution_count": 11,
     "metadata": {},
     "output_type": "execute_result"
    }
   ],
   "source": [
    "other.iloc[top_similar[0][0]][swap]"
   ]
  },
  {
   "cell_type": "code",
   "execution_count": 12,
   "id": "7c49f88a",
   "metadata": {},
   "outputs": [
    {
     "data": {
      "text/plain": [
       "\"Na albumie znalazł się również przebój „Bohemian Rhapsody”, który przez dziewięć tygodni był numerem jeden w Wielkiej Brytanii. Bliski przyjaciel i doradca Mercury'ego, londyński radiowy DJ Kenny Everett, odegrał kluczową rolę w wygłoszeniu tego pojedynczego występu. Jest to trzeci najlepiej sprzedający się singiel wszechczasów w Wielkiej Brytanii, ustępując jedynie utworowi Band Aid „Do They Know It's Christmas?” oraz „Candle in the Wind 1997” Eltona Johna i jest najlepiej sprzedającym się komercyjnym singlem w Wielkiej Brytanii. Osiągnął również dziewiąte miejsce w Stanach Zjednoczonych (reedycja z 1992 r. osiągnęła drugie miejsce na liście Billboard Hot 100 przez pięć tygodni). Jest to jedyny singiel, który sprzedał się w milionach egzemplarzy przy dwóch różnych okazjach i dwukrotnie stał się numerem jeden na Boże Narodzenie w Wielkiej Brytanii, jedynym, który to zrobił. „Bohemian Rhapsody” została wielokrotnie uznana za najlepszą piosenkę wszech czasów. Zespół postanowił nakręcić teledysk do singla i zatrudnił Trilion, spółkę zależną byłej firmy zarządzającej Trident Studios, przy użyciu nowej technologii do stworzenia teledysku; rezultat jest powszechnie uważany za pierwszy „prawdziwy” teledysk, jaki kiedykolwiek wyprodukowano i spopularyzował to medium. Mówi się, że pierwszy utwór z albumu „Death on Two Legs” został napisany przez Mercury’ego o Normanie Sheffieldzie i byłym kierownictwie Trident, które przyczyniły się do tego, że teledysk stał się tak popularny. Chociaż inne zespoły, w tym The Beatles, wcześniej nakręciły krótkie filmy promocyjne lub wideo z piosenkami, ogólnie rzecz biorąc, były one tworzone specjalnie do emisji w określonych programach telewizyjnych. O wpływie „Bohemian Rhapsody” Rolling Stone stwierdza: „Jego wpływu nie można przecenić, praktycznie wymyślając teledysk siedem lat przed pojawieniem się MTV”. Drugi singiel z albumu, „You're My Best Friend”, druga piosenka skomponowana przez Johna Deacona, a jego pierwszy singiel osiągnął szesnaste miejsce w Stanach Zjednoczonych i stał się światowym hitem Top Ten. Trasa koncertowa zespołu A Night at the Opera rozpoczęła się w listopadzie 1975 roku i obejmowała Europę, Stany Zjednoczone, Japonię i Australię.\""
      ]
     },
     "execution_count": 12,
     "metadata": {},
     "output_type": "execute_result"
    }
   ],
   "source": [
    "other.iloc[top_similar[1][0]][swap]"
   ]
  },
  {
   "cell_type": "code",
   "execution_count": 13,
   "id": "52c5fcb1",
   "metadata": {},
   "outputs": [
    {
     "data": {
      "text/plain": [
       "'Sony Music Entertainment Inc. (czasami znana jako Sony Music lub przez inicjały SME) to amerykańska korporacja muzyczna zarządzana i zarządzana przez Sony Corporation of America (SCA), spółkę zależną japońskiego konglomeratu Sony Corporation. W 1929 roku firma została założona jako American Record Corporation (ARC), aw 1938 została zmieniona na Columbia Recording Corporation, po przejęciu ARC przez CBS. W 1966 roku firma została zreorganizowana, by stać się CBS Records. W 1987 firma Sony Corporation of Japan kupiła firmę, aw 1991 zmieniła jej nazwę na SME. Jest to druga co do wielkości firma muzyczna na świecie, po Universal Music Group.'"
      ]
     },
     "execution_count": 13,
     "metadata": {},
     "output_type": "execute_result"
    }
   ],
   "source": [
    "other.iloc[top_similar[2][0]][swap]"
   ]
  }
 ],
 "metadata": {
  "kernelspec": {
   "display_name": "Python 3 (ipykernel)",
   "language": "python",
   "name": "python3"
  },
  "language_info": {
   "codemirror_mode": {
    "name": "ipython",
    "version": 3
   },
   "file_extension": ".py",
   "mimetype": "text/x-python",
   "name": "python",
   "nbconvert_exporter": "python",
   "pygments_lexer": "ipython3",
   "version": "3.8.10"
  }
 },
 "nbformat": 4,
 "nbformat_minor": 5
}
