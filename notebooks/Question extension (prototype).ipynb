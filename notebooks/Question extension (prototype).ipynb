{
 "cells": [
  {
   "cell_type": "code",
   "execution_count": 14,
   "id": "56ea8347",
   "metadata": {},
   "outputs": [],
   "source": [
    "import pandas as pd\n",
    "from transformers import pipeline\n",
    "import numpy as np"
   ]
  },
  {
   "cell_type": "code",
   "execution_count": 2,
   "id": "fe29334b",
   "metadata": {},
   "outputs": [],
   "source": [
    "df = pd.read_csv(\"../data/SQuAD-PL/train.csv\")"
   ]
  },
  {
   "cell_type": "code",
   "execution_count": 3,
   "id": "068d87da",
   "metadata": {},
   "outputs": [
    {
     "data": {
      "text/html": [
       "<div>\n",
       "<style scoped>\n",
       "    .dataframe tbody tr th:only-of-type {\n",
       "        vertical-align: middle;\n",
       "    }\n",
       "\n",
       "    .dataframe tbody tr th {\n",
       "        vertical-align: top;\n",
       "    }\n",
       "\n",
       "    .dataframe thead th {\n",
       "        text-align: right;\n",
       "    }\n",
       "</style>\n",
       "<table border=\"1\" class=\"dataframe\">\n",
       "  <thead>\n",
       "    <tr style=\"text-align: right;\">\n",
       "      <th></th>\n",
       "      <th>qa_id</th>\n",
       "      <th>group_id</th>\n",
       "      <th>passage_id</th>\n",
       "      <th>context</th>\n",
       "      <th>question</th>\n",
       "      <th>answer_text</th>\n",
       "      <th>answer_start</th>\n",
       "    </tr>\n",
       "  </thead>\n",
       "  <tbody>\n",
       "    <tr>\n",
       "      <th>0</th>\n",
       "      <td>0</td>\n",
       "      <td>0</td>\n",
       "      <td>0</td>\n",
       "      <td>Beyoncé Giselle Knowles-Carter (/biːˈjɒnseɪ/ b...</td>\n",
       "      <td>Kiedy Beyonce zaczęła być popularna?</td>\n",
       "      <td>pod koniec lat 90.</td>\n",
       "      <td>264</td>\n",
       "    </tr>\n",
       "    <tr>\n",
       "      <th>1</th>\n",
       "      <td>2</td>\n",
       "      <td>0</td>\n",
       "      <td>0</td>\n",
       "      <td>Beyoncé Giselle Knowles-Carter (/biːˈjɒnseɪ/ b...</td>\n",
       "      <td>Kiedy Beyonce opuściła Destiny's Child i zosta...</td>\n",
       "      <td>2003</td>\n",
       "      <td>550</td>\n",
       "    </tr>\n",
       "    <tr>\n",
       "      <th>2</th>\n",
       "      <td>4</td>\n",
       "      <td>0</td>\n",
       "      <td>0</td>\n",
       "      <td>Beyoncé Giselle Knowles-Carter (/biːˈjɒnseɪ/ b...</td>\n",
       "      <td>W której dekadzie Beyonce stała się sławna?</td>\n",
       "      <td>koniec lat 90.</td>\n",
       "      <td>268</td>\n",
       "    </tr>\n",
       "    <tr>\n",
       "      <th>3</th>\n",
       "      <td>8</td>\n",
       "      <td>0</td>\n",
       "      <td>0</td>\n",
       "      <td>Beyoncé Giselle Knowles-Carter (/biːˈjɒnseɪ/ b...</td>\n",
       "      <td>Kiedy Beyoncé zyskała sławę?</td>\n",
       "      <td>koniec lat 90.</td>\n",
       "      <td>268</td>\n",
       "    </tr>\n",
       "    <tr>\n",
       "      <th>4</th>\n",
       "      <td>11</td>\n",
       "      <td>0</td>\n",
       "      <td>0</td>\n",
       "      <td>Beyoncé Giselle Knowles-Carter (/biːˈjɒnseɪ/ b...</td>\n",
       "      <td>Kiedy Beyoncé wydała Dangerously In Love?</td>\n",
       "      <td>2003</td>\n",
       "      <td>550</td>\n",
       "    </tr>\n",
       "    <tr>\n",
       "      <th>...</th>\n",
       "      <td>...</td>\n",
       "      <td>...</td>\n",
       "      <td>...</td>\n",
       "      <td>...</td>\n",
       "      <td>...</td>\n",
       "      <td>...</td>\n",
       "      <td>...</td>\n",
       "    </tr>\n",
       "    <tr>\n",
       "      <th>78260</th>\n",
       "      <td>130314</td>\n",
       "      <td>441</td>\n",
       "      <td>28</td>\n",
       "      <td>Termin „materia” jest używany w fizyce w oszał...</td>\n",
       "      <td>Fizyka szeroko zgodziła się na definicję czego?</td>\n",
       "      <td>NaN</td>\n",
       "      <td>0</td>\n",
       "    </tr>\n",
       "    <tr>\n",
       "      <th>78261</th>\n",
       "      <td>130315</td>\n",
       "      <td>441</td>\n",
       "      <td>28</td>\n",
       "      <td>Termin „materia” jest używany w fizyce w oszał...</td>\n",
       "      <td>Kto ukuł termin materia partonic?</td>\n",
       "      <td>NaN</td>\n",
       "      <td>0</td>\n",
       "    </tr>\n",
       "    <tr>\n",
       "      <th>78262</th>\n",
       "      <td>130316</td>\n",
       "      <td>441</td>\n",
       "      <td>28</td>\n",
       "      <td>Termin „materia” jest używany w fizyce w oszał...</td>\n",
       "      <td>Jaka jest inna nazwa antymaterii?</td>\n",
       "      <td>NaN</td>\n",
       "      <td>0</td>\n",
       "    </tr>\n",
       "    <tr>\n",
       "      <th>78263</th>\n",
       "      <td>130317</td>\n",
       "      <td>441</td>\n",
       "      <td>28</td>\n",
       "      <td>Termin „materia” jest używany w fizyce w oszał...</td>\n",
       "      <td>Materii zwykle nie trzeba używać w połączeniu ...</td>\n",
       "      <td>NaN</td>\n",
       "      <td>0</td>\n",
       "    </tr>\n",
       "    <tr>\n",
       "      <th>78264</th>\n",
       "      <td>130318</td>\n",
       "      <td>441</td>\n",
       "      <td>28</td>\n",
       "      <td>Termin „materia” jest używany w fizyce w oszał...</td>\n",
       "      <td>Jaki kierunek studiów ma różne nietypowe konte...</td>\n",
       "      <td>NaN</td>\n",
       "      <td>0</td>\n",
       "    </tr>\n",
       "  </tbody>\n",
       "</table>\n",
       "<p>78265 rows × 7 columns</p>\n",
       "</div>"
      ],
      "text/plain": [
       "        qa_id  group_id  passage_id  \\\n",
       "0           0         0           0   \n",
       "1           2         0           0   \n",
       "2           4         0           0   \n",
       "3           8         0           0   \n",
       "4          11         0           0   \n",
       "...       ...       ...         ...   \n",
       "78260  130314       441          28   \n",
       "78261  130315       441          28   \n",
       "78262  130316       441          28   \n",
       "78263  130317       441          28   \n",
       "78264  130318       441          28   \n",
       "\n",
       "                                                 context  \\\n",
       "0      Beyoncé Giselle Knowles-Carter (/biːˈjɒnseɪ/ b...   \n",
       "1      Beyoncé Giselle Knowles-Carter (/biːˈjɒnseɪ/ b...   \n",
       "2      Beyoncé Giselle Knowles-Carter (/biːˈjɒnseɪ/ b...   \n",
       "3      Beyoncé Giselle Knowles-Carter (/biːˈjɒnseɪ/ b...   \n",
       "4      Beyoncé Giselle Knowles-Carter (/biːˈjɒnseɪ/ b...   \n",
       "...                                                  ...   \n",
       "78260  Termin „materia” jest używany w fizyce w oszał...   \n",
       "78261  Termin „materia” jest używany w fizyce w oszał...   \n",
       "78262  Termin „materia” jest używany w fizyce w oszał...   \n",
       "78263  Termin „materia” jest używany w fizyce w oszał...   \n",
       "78264  Termin „materia” jest używany w fizyce w oszał...   \n",
       "\n",
       "                                                question         answer_text  \\\n",
       "0                   Kiedy Beyonce zaczęła być popularna?  pod koniec lat 90.   \n",
       "1      Kiedy Beyonce opuściła Destiny's Child i zosta...                2003   \n",
       "2            W której dekadzie Beyonce stała się sławna?      koniec lat 90.   \n",
       "3                           Kiedy Beyoncé zyskała sławę?      koniec lat 90.   \n",
       "4              Kiedy Beyoncé wydała Dangerously In Love?                2003   \n",
       "...                                                  ...                 ...   \n",
       "78260    Fizyka szeroko zgodziła się na definicję czego?                 NaN   \n",
       "78261                  Kto ukuł termin materia partonic?                 NaN   \n",
       "78262                  Jaka jest inna nazwa antymaterii?                 NaN   \n",
       "78263  Materii zwykle nie trzeba używać w połączeniu ...                 NaN   \n",
       "78264  Jaki kierunek studiów ma różne nietypowe konte...                 NaN   \n",
       "\n",
       "       answer_start  \n",
       "0               264  \n",
       "1               550  \n",
       "2               268  \n",
       "3               268  \n",
       "4               550  \n",
       "...             ...  \n",
       "78260             0  \n",
       "78261             0  \n",
       "78262             0  \n",
       "78263             0  \n",
       "78264             0  \n",
       "\n",
       "[78265 rows x 7 columns]"
      ]
     },
     "execution_count": 3,
     "metadata": {},
     "output_type": "execute_result"
    }
   ],
   "source": [
    "df"
   ]
  },
  {
   "cell_type": "code",
   "execution_count": 46,
   "id": "7e417b72",
   "metadata": {},
   "outputs": [],
   "source": [
    "text_gen = pipeline(\"text-generation\", model=\"dkleczek/papuGaPT2\", max_length=500)"
   ]
  },
  {
   "cell_type": "code",
   "execution_count": 47,
   "id": "b0ccaf6a",
   "metadata": {},
   "outputs": [
    {
     "name": "stderr",
     "output_type": "stream",
     "text": [
      "Setting `pad_token_id` to `eos_token_id`:50256 for open-end generation.\n"
     ]
    },
    {
     "data": {
      "text/plain": [
       "[{'generated_text': \"Beyoncé Giselle Knowles-Carter (/biːˈjɒnseɪ/ bee-YON-say) (ur. 4 września 1981) to amerykańska piosenkarka, autorka tekstów, producentka muzyczna i aktorka. Urodzona i wychowana w Houston w Teksasie, jako dziecko występowała w różnych konkursach śpiewu i tańca, a pod koniec lat 90. zyskała sławę jako wokalistka dziewczęcej grupy R&B Destiny's Child. Zarządzana przez jej ojca, Mathew Knowlesa, grupa stała się jedną z najlepiej sprzedających się żeńskich grup wszech czasów. W ich przerwie ukazał się debiutancki album Beyoncé Dangerously in Love (2003), który ugruntował ją jako artystkę solową na całym świecie, zdobyła pięć nagród Grammy i zawierała single „Crazy in Love” i „Baby Boy” na pierwszym miejscu listy Billboard Hot 100. .\\nJej pierwszym muzycznym projektem była kariera piosenkarki w telewizji – „The Last Shit” z jej debiutanckim singlem „Short”, potem była związana z takimi wykonawcami, jak Björk, Lana Del Rey czy Adele, ale nagrała również płyty typu soul, pop i rock. W latach 90. artystka wydała swoje pierwsze solowe albumy pod własnym nazwiskiem takie jak: „One Tell So Far – Out Of The Sky”, „America’s Revenge” i dwa single „When You Might Died” i „I Say There”. W 2009 roku otrzymała nagrodę The Best Volume, co dało jej przepustkę do pierwszego miejsca, występując w konkursie Emergenza w Los Angeles podczas koncertu „La Revue d’Hermes”. W latach 2004-2006 artystka nagrywała także muzykę do filmów „Naga Cher”, „Watchmen” i „Woody The Wild”. Jej kariera na rynku muzyki tanecznej zaczęła się w 2017 roku, kiedy wygrała festiwal jazzowy Jazz Jamboree, a także otrzymała nagrodę Emmy w 2017 roku.\\n„Hit 2 Ghosts Tours” to debiutancki album Beyoncé Giselle. Nawiązuje on do muzyki Beatlesów, jak i na standardy muzyki pop – „Beyoncé Lion, Beyoncé Lion, I Am Doing So Beyond”.\\nUtworem otwierającym album jest „\"}]"
      ]
     },
     "execution_count": 47,
     "metadata": {},
     "output_type": "execute_result"
    }
   ],
   "source": [
    "text_gen(df.loc[0, \"context\"])"
   ]
  },
  {
   "cell_type": "code",
   "execution_count": 48,
   "id": "b5619994",
   "metadata": {},
   "outputs": [
    {
     "data": {
      "text/plain": [
       "\"Beyoncé Giselle Knowles-Carter (/biːˈjɒnseɪ/ bee-YON-say) (ur. 4 września 1981) to amerykańska piosenkarka, autorka tekstów, producentka muzyczna i aktorka. Urodzona i wychowana w Houston w Teksasie, jako dziecko występowała w różnych konkursach śpiewu i tańca, a pod koniec lat 90. zyskała sławę jako wokalistka dziewczęcej grupy R&B Destiny's Child. Zarządzana przez jej ojca, Mathew Knowlesa, grupa stała się jedną z najlepiej sprzedających się żeńskich grup wszech czasów. W ich przerwie ukazał się debiutancki album Beyoncé Dangerously in Love (2003), który ugruntował ją jako artystkę solową na całym świecie, zdobyła pięć nagród Grammy i zawierała single „Crazy in Love” i „Baby Boy” na pierwszym miejscu listy Billboard Hot 100. .\""
      ]
     },
     "execution_count": 48,
     "metadata": {},
     "output_type": "execute_result"
    }
   ],
   "source": [
    "df.loc[0, \"context\"]"
   ]
  }
 ],
 "metadata": {
  "kernelspec": {
   "display_name": "Python 3 (ipykernel)",
   "language": "python",
   "name": "python3"
  },
  "language_info": {
   "codemirror_mode": {
    "name": "ipython",
    "version": 3
   },
   "file_extension": ".py",
   "mimetype": "text/x-python",
   "name": "python",
   "nbconvert_exporter": "python",
   "pygments_lexer": "ipython3",
   "version": "3.8.10"
  }
 },
 "nbformat": 4,
 "nbformat_minor": 5
}
