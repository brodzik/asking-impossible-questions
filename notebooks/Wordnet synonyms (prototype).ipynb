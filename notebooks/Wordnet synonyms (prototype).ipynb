{
 "cells": [
  {
   "cell_type": "code",
   "execution_count": 62,
   "id": "56ea8347",
   "metadata": {},
   "outputs": [],
   "source": [
    "import pandas as pd\n",
    "import plwordnet\n",
    "import morfeusz2\n",
    "from transformers import pipeline\n",
    "import random"
   ]
  },
  {
   "cell_type": "code",
   "execution_count": 2,
   "id": "fe29334b",
   "metadata": {},
   "outputs": [],
   "source": [
    "df = pd.read_csv(\"../data/SQuAD-PL/train.csv\")"
   ]
  },
  {
   "cell_type": "code",
   "execution_count": 3,
   "id": "068d87da",
   "metadata": {},
   "outputs": [
    {
     "data": {
      "text/html": [
       "<div>\n",
       "<style scoped>\n",
       "    .dataframe tbody tr th:only-of-type {\n",
       "        vertical-align: middle;\n",
       "    }\n",
       "\n",
       "    .dataframe tbody tr th {\n",
       "        vertical-align: top;\n",
       "    }\n",
       "\n",
       "    .dataframe thead th {\n",
       "        text-align: right;\n",
       "    }\n",
       "</style>\n",
       "<table border=\"1\" class=\"dataframe\">\n",
       "  <thead>\n",
       "    <tr style=\"text-align: right;\">\n",
       "      <th></th>\n",
       "      <th>qa_id</th>\n",
       "      <th>group_id</th>\n",
       "      <th>passage_id</th>\n",
       "      <th>context</th>\n",
       "      <th>question</th>\n",
       "      <th>answer_text</th>\n",
       "      <th>answer_start</th>\n",
       "    </tr>\n",
       "  </thead>\n",
       "  <tbody>\n",
       "    <tr>\n",
       "      <th>0</th>\n",
       "      <td>0</td>\n",
       "      <td>0</td>\n",
       "      <td>0</td>\n",
       "      <td>Beyoncé Giselle Knowles-Carter (/biːˈjɒnseɪ/ b...</td>\n",
       "      <td>Kiedy Beyonce zaczęła być popularna?</td>\n",
       "      <td>pod koniec lat 90.</td>\n",
       "      <td>264</td>\n",
       "    </tr>\n",
       "    <tr>\n",
       "      <th>1</th>\n",
       "      <td>2</td>\n",
       "      <td>0</td>\n",
       "      <td>0</td>\n",
       "      <td>Beyoncé Giselle Knowles-Carter (/biːˈjɒnseɪ/ b...</td>\n",
       "      <td>Kiedy Beyonce opuściła Destiny's Child i zosta...</td>\n",
       "      <td>2003</td>\n",
       "      <td>550</td>\n",
       "    </tr>\n",
       "    <tr>\n",
       "      <th>2</th>\n",
       "      <td>4</td>\n",
       "      <td>0</td>\n",
       "      <td>0</td>\n",
       "      <td>Beyoncé Giselle Knowles-Carter (/biːˈjɒnseɪ/ b...</td>\n",
       "      <td>W której dekadzie Beyonce stała się sławna?</td>\n",
       "      <td>koniec lat 90.</td>\n",
       "      <td>268</td>\n",
       "    </tr>\n",
       "    <tr>\n",
       "      <th>3</th>\n",
       "      <td>8</td>\n",
       "      <td>0</td>\n",
       "      <td>0</td>\n",
       "      <td>Beyoncé Giselle Knowles-Carter (/biːˈjɒnseɪ/ b...</td>\n",
       "      <td>Kiedy Beyoncé zyskała sławę?</td>\n",
       "      <td>koniec lat 90.</td>\n",
       "      <td>268</td>\n",
       "    </tr>\n",
       "    <tr>\n",
       "      <th>4</th>\n",
       "      <td>11</td>\n",
       "      <td>0</td>\n",
       "      <td>0</td>\n",
       "      <td>Beyoncé Giselle Knowles-Carter (/biːˈjɒnseɪ/ b...</td>\n",
       "      <td>Kiedy Beyoncé wydała Dangerously In Love?</td>\n",
       "      <td>2003</td>\n",
       "      <td>550</td>\n",
       "    </tr>\n",
       "    <tr>\n",
       "      <th>...</th>\n",
       "      <td>...</td>\n",
       "      <td>...</td>\n",
       "      <td>...</td>\n",
       "      <td>...</td>\n",
       "      <td>...</td>\n",
       "      <td>...</td>\n",
       "      <td>...</td>\n",
       "    </tr>\n",
       "    <tr>\n",
       "      <th>78260</th>\n",
       "      <td>130314</td>\n",
       "      <td>441</td>\n",
       "      <td>28</td>\n",
       "      <td>Termin „materia” jest używany w fizyce w oszał...</td>\n",
       "      <td>Fizyka szeroko zgodziła się na definicję czego?</td>\n",
       "      <td>NaN</td>\n",
       "      <td>0</td>\n",
       "    </tr>\n",
       "    <tr>\n",
       "      <th>78261</th>\n",
       "      <td>130315</td>\n",
       "      <td>441</td>\n",
       "      <td>28</td>\n",
       "      <td>Termin „materia” jest używany w fizyce w oszał...</td>\n",
       "      <td>Kto ukuł termin materia partonic?</td>\n",
       "      <td>NaN</td>\n",
       "      <td>0</td>\n",
       "    </tr>\n",
       "    <tr>\n",
       "      <th>78262</th>\n",
       "      <td>130316</td>\n",
       "      <td>441</td>\n",
       "      <td>28</td>\n",
       "      <td>Termin „materia” jest używany w fizyce w oszał...</td>\n",
       "      <td>Jaka jest inna nazwa antymaterii?</td>\n",
       "      <td>NaN</td>\n",
       "      <td>0</td>\n",
       "    </tr>\n",
       "    <tr>\n",
       "      <th>78263</th>\n",
       "      <td>130317</td>\n",
       "      <td>441</td>\n",
       "      <td>28</td>\n",
       "      <td>Termin „materia” jest używany w fizyce w oszał...</td>\n",
       "      <td>Materii zwykle nie trzeba używać w połączeniu ...</td>\n",
       "      <td>NaN</td>\n",
       "      <td>0</td>\n",
       "    </tr>\n",
       "    <tr>\n",
       "      <th>78264</th>\n",
       "      <td>130318</td>\n",
       "      <td>441</td>\n",
       "      <td>28</td>\n",
       "      <td>Termin „materia” jest używany w fizyce w oszał...</td>\n",
       "      <td>Jaki kierunek studiów ma różne nietypowe konte...</td>\n",
       "      <td>NaN</td>\n",
       "      <td>0</td>\n",
       "    </tr>\n",
       "  </tbody>\n",
       "</table>\n",
       "<p>78265 rows × 7 columns</p>\n",
       "</div>"
      ],
      "text/plain": [
       "        qa_id  group_id  passage_id  \\\n",
       "0           0         0           0   \n",
       "1           2         0           0   \n",
       "2           4         0           0   \n",
       "3           8         0           0   \n",
       "4          11         0           0   \n",
       "...       ...       ...         ...   \n",
       "78260  130314       441          28   \n",
       "78261  130315       441          28   \n",
       "78262  130316       441          28   \n",
       "78263  130317       441          28   \n",
       "78264  130318       441          28   \n",
       "\n",
       "                                                 context  \\\n",
       "0      Beyoncé Giselle Knowles-Carter (/biːˈjɒnseɪ/ b...   \n",
       "1      Beyoncé Giselle Knowles-Carter (/biːˈjɒnseɪ/ b...   \n",
       "2      Beyoncé Giselle Knowles-Carter (/biːˈjɒnseɪ/ b...   \n",
       "3      Beyoncé Giselle Knowles-Carter (/biːˈjɒnseɪ/ b...   \n",
       "4      Beyoncé Giselle Knowles-Carter (/biːˈjɒnseɪ/ b...   \n",
       "...                                                  ...   \n",
       "78260  Termin „materia” jest używany w fizyce w oszał...   \n",
       "78261  Termin „materia” jest używany w fizyce w oszał...   \n",
       "78262  Termin „materia” jest używany w fizyce w oszał...   \n",
       "78263  Termin „materia” jest używany w fizyce w oszał...   \n",
       "78264  Termin „materia” jest używany w fizyce w oszał...   \n",
       "\n",
       "                                                question         answer_text  \\\n",
       "0                   Kiedy Beyonce zaczęła być popularna?  pod koniec lat 90.   \n",
       "1      Kiedy Beyonce opuściła Destiny's Child i zosta...                2003   \n",
       "2            W której dekadzie Beyonce stała się sławna?      koniec lat 90.   \n",
       "3                           Kiedy Beyoncé zyskała sławę?      koniec lat 90.   \n",
       "4              Kiedy Beyoncé wydała Dangerously In Love?                2003   \n",
       "...                                                  ...                 ...   \n",
       "78260    Fizyka szeroko zgodziła się na definicję czego?                 NaN   \n",
       "78261                  Kto ukuł termin materia partonic?                 NaN   \n",
       "78262                  Jaka jest inna nazwa antymaterii?                 NaN   \n",
       "78263  Materii zwykle nie trzeba używać w połączeniu ...                 NaN   \n",
       "78264  Jaki kierunek studiów ma różne nietypowe konte...                 NaN   \n",
       "\n",
       "       answer_start  \n",
       "0               264  \n",
       "1               550  \n",
       "2               268  \n",
       "3               268  \n",
       "4               550  \n",
       "...             ...  \n",
       "78260             0  \n",
       "78261             0  \n",
       "78262             0  \n",
       "78263             0  \n",
       "78264             0  \n",
       "\n",
       "[78265 rows x 7 columns]"
      ]
     },
     "execution_count": 3,
     "metadata": {},
     "output_type": "execute_result"
    }
   ],
   "source": [
    "df"
   ]
  },
  {
   "cell_type": "code",
   "execution_count": 4,
   "id": "24e2613a",
   "metadata": {},
   "outputs": [],
   "source": [
    "wn = plwordnet.load(\"../models/plwordnet_3_1/plwordnet-3.1.xml\")"
   ]
  },
  {
   "cell_type": "code",
   "execution_count": 5,
   "id": "e3dd9fc6",
   "metadata": {},
   "outputs": [],
   "source": [
    "mf = morfeusz2.Morfeusz()"
   ]
  },
  {
   "cell_type": "code",
   "execution_count": 12,
   "id": "88fa3e6f",
   "metadata": {},
   "outputs": [],
   "source": [
    "text = \"Kiedy Beyonce zaczęła być popularna?\""
   ]
  },
  {
   "cell_type": "code",
   "execution_count": 41,
   "id": "5433c412",
   "metadata": {},
   "outputs": [
    {
     "data": {
      "text/plain": [
       "[(0, 1, ('rządził', 'rządzić', 'praet:sg:m1.m2.m3:imperf', [], []))]"
      ]
     },
     "execution_count": 41,
     "metadata": {},
     "output_type": "execute_result"
    }
   ],
   "source": [
    "mf.analyse(\"rządził\")"
   ]
  },
  {
   "cell_type": "code",
   "execution_count": null,
   "id": "0adc6c5c",
   "metadata": {},
   "outputs": [],
   "source": [
    "df."
   ]
  },
  {
   "cell_type": "code",
   "execution_count": 48,
   "id": "53d11dee",
   "metadata": {},
   "outputs": [
    {
     "name": "stderr",
     "output_type": "stream",
     "text": [
      "Some weights of the model checkpoint at allegro/herbert-base-cased were not used when initializing BertForMaskedLM: ['cls.sso.sso_relationship.bias', 'cls.sso.sso_relationship.weight']\n",
      "- This IS expected if you are initializing BertForMaskedLM from the checkpoint of a model trained on another task or with another architecture (e.g. initializing a BertForSequenceClassification model from a BertForPreTraining model).\n",
      "- This IS NOT expected if you are initializing BertForMaskedLM from the checkpoint of a model that you expect to be exactly identical (initializing a BertForSequenceClassification model from a BertForSequenceClassification model).\n"
     ]
    }
   ],
   "source": [
    "nlp = pipeline(\"fill-mask\", model=\"allegro/herbert-base-cased\")"
   ]
  },
  {
   "cell_type": "code",
   "execution_count": 131,
   "id": "3f0bd351",
   "metadata": {},
   "outputs": [
    {
     "data": {
      "text/plain": [
       "'Kto wyprodukowł dyski 3D do pierwszych iPodów?'"
      ]
     },
     "execution_count": 131,
     "metadata": {},
     "output_type": "execute_result"
    }
   ],
   "source": [
    "random.choice(nlp(\"Kto wyprodukowł dyski <mask> do pierwszych iPodów?\"))[\"sequence\"]"
   ]
  },
  {
   "cell_type": "code",
   "execution_count": 43,
   "id": "195c93c6",
   "metadata": {},
   "outputs": [],
   "source": [
    "for i, j, interp in mf.analyse(text):\n",
    "    if \"adj\" in interp[2]:\n",
    "        #print(i, j, interp)\n",
    "        lemma = interp[1]\n",
    "        for lu in wn.find(\"rządzić\"):\n",
    "            for s, p, o in wn.lexical_relations_where(subject=lu):\n",
    "                if p.name == \"antonimia właściwa\":\n",
    "                    print(o.name)"
   ]
  },
  {
   "cell_type": "code",
   "execution_count": 42,
   "id": "bc486926",
   "metadata": {},
   "outputs": [
    {
     "name": "stdout",
     "output_type": "stream",
     "text": [
      "rządzenie rządzić.1 i rządzenie.1 to synonimy międzyparadygmatyczne\n",
      "porządzić rządzić.1 i porządzić.1 tworzą parę aspektową wtórną\n",
      "rząd rządzić.1 to sytuacja, której agensem jest rząd.1\n",
      "rządzący rządzić.1 to sytuacja, której agensem jest rządzący.1\n",
      "porządzić porządzić.1 i rządzić.1 tworzą parę aspektową wtórną\n",
      "rządzący rządzący.1 jest agensem dla czynności wyrażanej przez rządzić.1\n",
      "samorządny samorządny.1 jest derywatem od rządzić.1\n",
      "rząd rząd.1 jest agensem dla czynności wyrażanej przez rządzić.1\n",
      "rządzenie rządzenie.1 i rządzić.1 to synonimy międzyparadygmatyczne\n",
      "{rządzić.1 panować.3 władać.1 włodarzyć.1 trzymać ster rządów.1 mieć władzę.1 sprawować rządy.1 dzierżyć ster rządów.1} st {władca.1 panujący.1 hierarcha.2 pan.1}\n",
      "{rządzić.1 panować.3 władać.1 włodarzyć.1 trzymać ster rządów.1 mieć władzę.1 sprawować rządy.1 dzierżyć ster rządów.1} jest w relacji fuzzynimii do {władza.1 zwierzchnictwo.1 rządy.1}\n",
      "{rządzić.1 panować.3 władać.1 włodarzyć.1 trzymać ster rządów.1 mieć władzę.1 sprawować rządy.1 dzierżyć ster rządów.1} jest hiperonimem {zajmować.5}\n",
      "{rządzić.1 panować.3 władać.1 włodarzyć.1 trzymać ster rządów.1 mieć władzę.1 sprawować rządy.1 dzierżyć ster rządów.1} jest hiperonimem {rządzić żelazną ręką.1 trzymać ... żelazną ręką.1}\n",
      "{rządzić.1 panować.3 władać.1 włodarzyć.1 trzymać ster rządów.1 mieć władzę.1 sprawować rządy.1 dzierżyć ster rządów.1} jest hiperonimem {współrządzić.1}\n",
      "{rządzić.1 panować.3 władać.1 włodarzyć.1 trzymać ster rządów.1 mieć władzę.1 sprawować rządy.1 dzierżyć ster rządów.1} po_pa {manipulate.5 keep in line.1 control.4}\n",
      "{rządzić.1 panować.3 władać.1 włodarzyć.1 trzymać ster rządów.1 mieć władzę.1 sprawować rządy.1 dzierżyć ster rządów.1} jest hiperonimem {królować.1 tronować.1}\n",
      "{rządzić.1 panować.3 władać.1 włodarzyć.1 trzymać ster rządów.1 mieć władzę.1 sprawować rządy.1 dzierżyć ster rządów.1} jest hiperonimem {dyrygować.2 komenderować.2 rozstawiać po kątach.1 kręcić.6 trząść.4 rozstawiać.6}\n",
      "{rządzić.1 panować.3 władać.1 włodarzyć.1 trzymać ster rządów.1 mieć władzę.1 sprawować rządy.1 dzierżyć ster rządów.1} jest bliskoznaczne z {dzierżeć.2}\n",
      "{rządzić.1 panować.3 władać.1 włodarzyć.1 trzymać ster rządów.1 mieć władzę.1 sprawować rządy.1 dzierżyć ster rządów.1} jest hiperonimem {trzymać za gębę.1 trzymać za mordę.1}\n",
      "{rządzić.1 panować.3 władać.1 włodarzyć.1 trzymać ster rządów.1 mieć władzę.1 sprawować rządy.1 dzierżyć ster rządów.1} jest hiponimem {sprawować.1 pełnić.1}\n",
      "{zajmować.5} jest hiponimem {rządzić.1 panować.3 władać.1 włodarzyć.1 trzymać ster rządów.1 mieć władzę.1 sprawować rządy.1 dzierżyć ster rządów.1}\n",
      "{władza.1 zwierzchnictwo.1 rządy.1} jest w relacji fuzzynimii do {rządzić.1 panować.3 władać.1 włodarzyć.1 trzymać ster rządów.1 mieć władzę.1 sprawować rządy.1 dzierżyć ster rządów.1}\n",
      "{porządzić.1} holo_cz {rządzić.1 panować.3 władać.1 włodarzyć.1 trzymać ster rządów.1 mieć władzę.1 sprawować rządy.1 dzierżyć ster rządów.1}\n",
      "{rządzić żelazną ręką.1 trzymać ... żelazną ręką.1} jest hiponimem {rządzić.1 panować.3 władać.1 włodarzyć.1 trzymać ster rządów.1 mieć władzę.1 sprawować rządy.1 dzierżyć ster rządów.1}\n",
      "{współrządzić.1} jest hiponimem {rządzić.1 panować.3 władać.1 włodarzyć.1 trzymać ster rządów.1 mieć władzę.1 sprawować rządy.1 dzierżyć ster rządów.1}\n",
      "{królować.1 tronować.1} jest hiponimem {rządzić.1 panować.3 władać.1 włodarzyć.1 trzymać ster rządów.1 mieć władzę.1 sprawować rządy.1 dzierżyć ster rządów.1}\n",
      "{manipulate.5 keep in line.1 control.4} po_ap {rządzić.1 panować.3 władać.1 włodarzyć.1 trzymać ster rządów.1 mieć władzę.1 sprawować rządy.1 dzierżyć ster rządów.1}\n",
      "{dzierżeć.2} jest bliskoznaczne z {rządzić.1 panować.3 władać.1 włodarzyć.1 trzymać ster rządów.1 mieć władzę.1 sprawować rządy.1 dzierżyć ster rządów.1}\n",
      "{dyrygować.2 komenderować.2 rozstawiać po kątach.1 kręcić.6 trząść.4 rozstawiać.6} jest hiponimem {rządzić.1 panować.3 władać.1 włodarzyć.1 trzymać ster rządów.1 mieć władzę.1 sprawować rządy.1 dzierżyć ster rządów.1}\n",
      "{trzymać za gębę.1 trzymać za mordę.1} jest hiponimem {rządzić.1 panować.3 władać.1 włodarzyć.1 trzymać ster rządów.1 mieć władzę.1 sprawować rządy.1 dzierżyć ster rządów.1}\n",
      "{sprawować.1 pełnić.1} jest hiperonimem {rządzić.1 panować.3 władać.1 włodarzyć.1 trzymać ster rządów.1 mieć władzę.1 sprawować rządy.1 dzierżyć ster rządów.1}\n",
      "rządzenie rządzić.2 i rządzenie.2 to synonimy międzyparadygmatyczne\n",
      "rządzenie rządzenie.2 i rządzić.2 to synonimy międzyparadygmatyczne\n",
      "{rządzić.2} po_pa {control.1}\n",
      "{rządzić.2} jest hiperonimem {rozdawać karty.1}\n",
      "{rządzić.2} jest holonimem podsytuacji dla {decydować.2 rozstrzygać.2 stanowić.3 przesądzać.1}\n",
      "{rządzić.2} jest hiponimem {oddziaływać.2 wpływać.2 rzutować.1 działać.5 wywierać wpływ.1}\n",
      "{rządzić.2} jest hiponimem {dominować.1 przeważać.1 górować.1}\n",
      "{rządzić.2} jest bliskoznaczne z {mącić.7}\n",
      "{control.1} po_ap {rządzić.2}\n",
      "{rozdawać karty.1} jest hiponimem {rządzić.2}\n",
      "{mącić.7} jest bliskoznaczne z {rządzić.2}\n",
      "{oddziaływać.2 wpływać.2 rzutować.1 działać.5 wywierać wpływ.1} jest hiperonimem {rządzić.2}\n",
      "{dominować.1 przeważać.1 górować.1} jest hiperonimem {rządzić.2}\n",
      "{decydować.2 rozstrzygać.2 stanowić.3 przesądzać.1} jest podsytuacją dla {rządzić.2}\n",
      "{porządzić.5} holo_cz {rządzić.2}\n",
      "porządzić rządzić.3 i porządzić.3 tworzą parę aspektową wtórną\n",
      "porządzić porządzić.3 i rządzić.3 tworzą parę aspektową wtórną\n",
      "{rządzić.3} jest hiponimem {górować.3 przewyższać.4 przebijać.9}\n",
      "{porządzić.3} holo_cz {rządzić.3}\n",
      "{górować.3 przewyższać.4 przebijać.9} jest hiperonimem {rządzić.3}\n",
      "porządzić rządzić.4 i porządzić.2 tworzą parę aspektową wtórną\n",
      "porządzić porządzić.2 i rządzić.4 tworzą parę aspektową wtórną\n",
      "{rządzić.4} jest hiponimem {upijać się.1 opijać się.1 upajać się.2}\n",
      "{porządzić.2} holo_cz {rządzić.4}\n",
      "{upijać się.1 opijać się.1 upajać się.2} jest hiperonimem {rządzić.4}\n",
      "{rządzić.5} jest hiponimem {warunkować.1 uwarunkowywać.1 determinować.1}\n",
      "{warunkować.1 uwarunkowywać.1 determinować.1} jest hiperonimem {rządzić.5}\n"
     ]
    }
   ],
   "source": [
    "for x in wn.find(\"rządzić\"):\n",
    "    for s, p, o in wn.lexical_relations_where(subject=x):\n",
    "        print(o.name, p.format(s, o))\n",
    "\n",
    "    for s, p, o in wn.lexical_relations_where(object=x):\n",
    "        print(s.name, p.format(s, o))\n",
    "        \n",
    "    for s, p, o in wn.synset_relations_where(subject=x.synset):\n",
    "        print(p.format(s, o))\n",
    "\n",
    "    for s, p, o in wn.synset_relations_where(object=x.synset):\n",
    "        print(p.format(s, o))"
   ]
  }
 ],
 "metadata": {
  "kernelspec": {
   "display_name": "Python 3 (ipykernel)",
   "language": "python",
   "name": "python3"
  },
  "language_info": {
   "codemirror_mode": {
    "name": "ipython",
    "version": 3
   },
   "file_extension": ".py",
   "mimetype": "text/x-python",
   "name": "python",
   "nbconvert_exporter": "python",
   "pygments_lexer": "ipython3",
   "version": "3.8.10"
  }
 },
 "nbformat": 4,
 "nbformat_minor": 5
}
